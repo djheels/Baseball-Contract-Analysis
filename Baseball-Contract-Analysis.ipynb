{
 "cells": [
  {
   "cell_type": "markdown",
   "metadata": {},
   "source": [
    "## Look at several things:\n",
    "#### A/B Tests of performance in contract year and non-contract years (before, after, and both)\n",
    "#### A/B Test of performance between players signing with new team and those resigning with old team"
   ]
  },
  {
   "cell_type": "code",
   "execution_count": 396,
   "metadata": {},
   "outputs": [],
   "source": [
    "# Import Packages\n",
    "import requests\n",
    "from bs4 import BeautifulSoup\n",
    "import pandas as pd\n",
    "import re\n",
    "import re"
   ]
  },
  {
   "cell_type": "markdown",
   "metadata": {},
   "source": [
    "# Free Agency Data"
   ]
  },
  {
   "cell_type": "markdown",
   "metadata": {},
   "source": [
    "## Parse URLs for data tables"
   ]
  },
  {
   "cell_type": "markdown",
   "metadata": {},
   "source": [
    "### Define Functions"
   ]
  },
  {
   "cell_type": "code",
   "execution_count": 397,
   "metadata": {},
   "outputs": [],
   "source": [
    "def FindTable(url):\n",
    "    page = requests.get(url)\n",
    "    soup = BeautifulSoup(page.content, 'html.parser')\n",
    "    table = soup.find('table', class_='tablehead')\n",
    "    return table\n",
    "\n",
    "def FreeAgentTableParser(table):\n",
    "    header = []\n",
    "    df = []\n",
    "    \n",
    "    # Find Table Header\n",
    "    table_header = table.find_all('tr', class_='colhead')\n",
    "    \n",
    "    # Grab Table Header from Site\n",
    "    for tr in table_header:\n",
    "        td = tr.find_all('td')\n",
    "        row = [i.text for i in td]\n",
    "        header = []\n",
    "        header.append(row)\n",
    "        header = header[0]\n",
    "        break\n",
    "\n",
    "    # Create Regular Expression for Player Rows\n",
    "    regex = re.compile('.*player.*')\n",
    "\n",
    "    # Find Player Rows\n",
    "    table_rows = table.find_all('tr', class_=regex)\n",
    "\n",
    "    # Add Player Rows to Dataframe\n",
    "    for tr in table_rows:\n",
    "        td = tr.find_all('td')\n",
    "        row = [i.text for i in td]\n",
    "        df.append(row)\n",
    "\n",
    "    # Convert List Object to Dataframe\n",
    "    df = pd.DataFrame(df)\n",
    "\n",
    "    # Assign Header to Column Names\n",
    "    df.columns = header\n",
    "\n",
    "    return df"
   ]
  },
  {
   "cell_type": "markdown",
   "metadata": {},
   "source": [
    "### Build Dataset"
   ]
  },
  {
   "cell_type": "code",
   "execution_count": 398,
   "metadata": {},
   "outputs": [],
   "source": [
    "date_range = range(2006, 2020)\n",
    "urls = {}\n",
    "\n",
    "# MLB Free Agent Tables 2006-2019 from ESPN\n",
    "for year in date_range:\n",
    "    urls[year] = f'http://www.espn.com/mlb/freeagents/_/year/{year}'\n",
    "\n",
    "df = pd.DataFrame()\n",
    "\n",
    "for year, url in urls.items():\n",
    "    table = FindTable(url)\n",
    "    new_df = FreeAgentTableParser(table).rename(columns=lambda x: re.sub('\\d+ ','',x))\n",
    "    new_df['YEAR'] = year\n",
    "    df = pd.concat([df, new_df])\n",
    "\n",
    "#col_names = df.columns[0][:]\n",
    "#df = df.to_numpy()\n",
    "#df = pd.DataFrame(data=df, columns=col_names)"
   ]
  },
  {
   "cell_type": "code",
   "execution_count": 399,
   "metadata": {
    "tags": [
     "outputPrepend"
    ]
   },
   "outputs": [
    {
     "output_type": "stream",
     "name": "stdout",
     "text": "PLAYER POS AGE      STATUS       TEAM   NEW TEAM YRS  RK  \\\n0       Matt Albers  RP  37          FA         --         --      NR   \n1  Sandy Alomar Jr.   C  53      Signed  White Sox       Mets      NR   \n2       Moises Alou  LF  53  Signed (A)     Giants       Mets   1  37   \n3       Rick Ankiel  CF  40      Signed  Cardinals  Cardinals      NR   \n4        Tony Armas  SP  42      Signed  Nationals    Pirates   1  NR   \n\n      DOLLARS  YEAR  \n0          --  2006  \n1    Minor Lg  2006  \n2  $8,500,000  2006  \n3    Minor Lg  2006  \n4  $3,500,000  2006  \n"
    }
   ],
   "source": [
    "print(df.head())"
   ]
  },
  {
   "cell_type": "code",
   "execution_count": 400,
   "metadata": {},
   "outputs": [
    {
     "output_type": "stream",
     "name": "stdout",
     "text": "<class 'pandas.core.frame.DataFrame'>\nInt64Index: 2912 entries, 0 to 264\nData columns (total 10 columns):\n #   Column    Non-Null Count  Dtype \n---  ------    --------------  ----- \n 0   PLAYER    2912 non-null   object\n 1   POS       2912 non-null   object\n 2   AGE       2912 non-null   object\n 3   STATUS    2912 non-null   object\n 4   TEAM      2912 non-null   object\n 5   NEW TEAM  2912 non-null   object\n 6   YRS       2912 non-null   object\n 7   RK        2912 non-null   object\n 8   DOLLARS   2912 non-null   object\n 9   YEAR      2912 non-null   int64 \ndtypes: int64(1), object(9)\nmemory usage: 1.6 MB\nNone\n"
    }
   ],
   "source": [
    "print(df.info(memory_usage='deep'))"
   ]
  },
  {
   "cell_type": "code",
   "execution_count": 401,
   "metadata": {},
   "outputs": [
    {
     "output_type": "stream",
     "name": "stdout",
     "text": "2018    277\n2019    265\n2010    227\n2013    225\n2009    222\n2008    217\n2006    210\n2017    203\n2016    203\n2011    191\n2007    190\n2012    182\n2015    163\n2014    137\nName: YEAR, dtype: int64\n"
    }
   ],
   "source": [
    "print(df['YEAR'].value_counts())"
   ]
  },
  {
   "cell_type": "markdown",
   "metadata": {},
   "source": [
    "### Clean Data"
   ]
  },
  {
   "cell_type": "code",
   "execution_count": null,
   "metadata": {},
   "outputs": [],
   "source": [
    "# Set Index\n",
    "\n",
    "# Format Dates as Datetime Objects\n",
    "date_cols = []\n",
    "\n",
    "for col in date_cols:\n",
    "    df[col] = pd.to_datetime(df[col], format='%Y-%m-%d')\n",
    "\n",
    "# Format Numerical Columns as Float\n",
    "float_cols = ['AGE', 'YRS', 'DOLLARS']\n",
    "\n",
    "for col in float_cols:\n",
    "    df[col] = df[col].astype('float')\n",
    "\n",
    "# Exclude Columns from Categorical Consideration\n",
    "exclude_columns = ['YEAR']\n",
    "exclude_columns = date_cols+float_cols+exclude_columns\n",
    "\n",
    "# Categorical Data Types\n",
    "for col in df.columns:\n",
    "    if df[col].nunique() < 500 and col not in exclude_columns:\n",
    "        df[col] = df[col].astype('category')\n"
   ]
  },
  {
   "cell_type": "markdown",
   "metadata": {},
   "source": [
    "### Examine Major League Contracts Only"
   ]
  },
  {
   "cell_type": "code",
   "execution_count": null,
   "metadata": {},
   "outputs": [],
   "source": [
    "df = df.loc[(df['DOLLARS']!='Minor Lg')]"
   ]
  },
  {
   "cell_type": "code",
   "execution_count": null,
   "metadata": {},
   "outputs": [],
   "source": []
  },
  {
   "cell_type": "code",
   "execution_count": null,
   "metadata": {
    "tags": [
     "outputPrepend"
    ]
   },
   "outputs": [],
   "source": [
    "df = []\n",
    "regex = re.compile('.*player*.')\n",
    "table_rows = table.find_all('tr', class_=regex)\n",
    "\n",
    "for tr in table_rows:\n",
    "    td = tr.find_all('td')\n",
    "    row = [i.text for i in td]\n",
    "    df.append(row)\n",
    "\n",
    "df = pd.DataFrame(df)\n",
    "\n",
    "print(df.tail())"
   ]
  },
  {
   "cell_type": "markdown",
   "metadata": {},
   "source": [
    "### Data sourced from: https://www.baseball-reference.com/data/\n"
   ]
  },
  {
   "cell_type": "code",
   "execution_count": null,
   "metadata": {},
   "outputs": [],
   "source": [
    "path = '/Users/davidodonnell/Documents/GitHub/Baseball-Contract-Analysis/war_archive-2020-03-18/'\n",
    "file_name_bat = 'war_daily_bat.txt'\n",
    "file_name_pitch = 'war_daily_pitch.txt'\n",
    "\n",
    "bat_stats = pd.read_csv(path+file_name_bat)\n",
    "pitch_stats = pd.read_csv(path+file_name_pitch)\n",
    "\n",
    "stats_df = pd.merge(bat_stats, pitch_stats, on=['mlb_ID','year_ID'], suffixes=('','_y'))\n",
    "stats_df = stats_df.drop(list(stats_df.filter(regex='_y$')), axis=1)\n"
   ]
  },
  {
   "cell_type": "code",
   "execution_count": null,
   "metadata": {},
   "outputs": [],
   "source": [
    "df = []\n",
    "table_header = table.find_all('tr', class_='colhead')\n",
    "\n",
    "for tr in table_header:\n",
    "    td = tr.find_all('td')\n",
    "    row = [i.text for i in td]\n",
    "    df.append(row)\n",
    "\n",
    "df = pd.DataFrame(df)\n",
    "\n",
    "print(df.head())"
   ]
  },
  {
   "cell_type": "code",
   "execution_count": null,
   "metadata": {},
   "outputs": [],
   "source": [
    "print(stats_df.loc[(stats_df['name_common']=='Gerrit Cole')])"
   ]
  },
  {
   "cell_type": "code",
   "execution_count": null,
   "metadata": {},
   "outputs": [],
   "source": []
  },
  {
   "cell_type": "markdown",
   "metadata": {},
   "source": [
    "# Baseball Statistics"
   ]
  },
  {
   "cell_type": "markdown",
   "metadata": {},
   "source": [
    "# Combined Dataset"
   ]
  },
  {
   "cell_type": "code",
   "execution_count": null,
   "metadata": {},
   "outputs": [],
   "source": [
    "complete_df = pd.merge()"
   ]
  },
  {
   "cell_type": "code",
   "execution_count": null,
   "metadata": {},
   "outputs": [],
   "source": [
    "print(stats_df.info())"
   ]
  },
  {
   "cell_type": "code",
   "execution_count": null,
   "metadata": {},
   "outputs": [],
   "source": [
    "print(stats_df.describe())"
   ]
  },
  {
   "cell_type": "code",
   "execution_count": null,
   "metadata": {},
   "outputs": [],
   "source": [
    "print(stats_df)"
   ]
  }
 ],
 "metadata": {
  "language_info": {
   "name": "python",
   "codemirror_mode": {
    "name": "ipython",
    "version": 3
   },
   "version": "3.8.1-final"
  },
  "orig_nbformat": 2,
  "file_extension": ".py",
  "mimetype": "text/x-python",
  "name": "python",
  "npconvert_exporter": "python",
  "pygments_lexer": "ipython3",
  "version": 3,
  "kernelspec": {
   "name": "python38164bit39087c61047b48eb9f6eca6b17324823",
   "display_name": "Python 3.8.1 64-bit"
  }
 },
 "nbformat": 4,
 "nbformat_minor": 2
}